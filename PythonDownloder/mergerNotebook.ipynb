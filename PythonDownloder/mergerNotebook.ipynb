{
 "cells": [
  {
   "cell_type": "code",
   "execution_count": 3,
   "id": "eff08197",
   "metadata": {},
   "outputs": [],
   "source": [
    "from moviepy.editor import VideoFileClip, AudioFileClip"
   ]
  },
  {
   "cell_type": "code",
   "execution_count": 4,
   "id": "ad470869",
   "metadata": {},
   "outputs": [],
   "source": [
    "def merge_audio_with_video(video_path, audio_path, output_path):\n",
    "    video = VideoFileClip(video_path)\n",
    "    audio = AudioFileClip(audio_path)\n",
    "\n",
    "    video = video.set_audio(audio)\n",
    "    video.write_videofile(output_path, codec='libx264', fps=24)"
   ]
  },
  {
   "cell_type": "code",
   "execution_count": 5,
   "id": "96b634b7",
   "metadata": {},
   "outputs": [],
   "source": [
    "import argparse"
   ]
  },
  {
   "cell_type": "code",
   "execution_count": 6,
   "id": "d0b8af49",
   "metadata": {},
   "outputs": [],
   "source": [
    "parser = argparse.ArgumentParser()\n",
    "\n",
    "parser.add_argument('--videoPath', help='Video file path')\n",
    "parser.add_argument('--audioPath', help='Audio file path')\n",
    "parser.add_argument('--outputPath', help='Audio file path')\n",
    "\n",
    "args, _ = parser.parse_known_args()\n",
    "\n",
    "videoPath = args.videoPath\n",
    "audioPath = args.audioPath\n",
    "outputPath = args.outputPath\n",
    "\n",
    "if outputPath is None:\n",
    "    outputPath = \"\""
   ]
  },
  {
   "cell_type": "markdown",
   "id": "1572e953",
   "metadata": {},
   "source": [
    "## For Testing Purposses"
   ]
  },
  {
   "cell_type": "code",
   "execution_count": 7,
   "id": "054efe25",
   "metadata": {},
   "outputs": [],
   "source": [
    "videoPath = r\"C:\\Users\\emirs\\Desktop\\Zaman bir yanılgıdan mı ibaret_271.webm\"\n",
    "audioPath = r\"C:\\Users\\emirs\\Desktop\\Zaman bir yanılgıdan mı ibaret_251.webm\"\n",
    "outputPath = r\"C:\\Users\\emirs\\Desktop\\result.mp4\""
   ]
  },
  {
   "cell_type": "code",
   "execution_count": 8,
   "id": "75539c5a",
   "metadata": {},
   "outputs": [
    {
     "name": "stdout",
     "output_type": "stream",
     "text": [
      "Moviepy - Building video C:\\Users\\emirs\\Desktop\\result.mp4.\n",
      "MoviePy - Writing audio in resultTEMP_MPY_wvf_snd.mp3\n"
     ]
    },
    {
     "name": "stderr",
     "output_type": "stream",
     "text": [
      "                                                                        \r"
     ]
    },
    {
     "name": "stdout",
     "output_type": "stream",
     "text": [
      "MoviePy - Done.\n",
      "Moviepy - Writing video C:\\Users\\emirs\\Desktop\\result.mp4\n",
      "\n"
     ]
    },
    {
     "name": "stderr",
     "output_type": "stream",
     "text": [
      "                                                                  \r"
     ]
    },
    {
     "name": "stdout",
     "output_type": "stream",
     "text": [
      "Moviepy - Done !\n",
      "Moviepy - video ready C:\\Users\\emirs\\Desktop\\result.mp4\n"
     ]
    }
   ],
   "source": [
    "merge_audio_with_video(videoPath, audioPath, outputPath)"
   ]
  },
  {
   "cell_type": "code",
   "execution_count": null,
   "id": "d5995c03",
   "metadata": {},
   "outputs": [],
   "source": []
  }
 ],
 "metadata": {
  "kernelspec": {
   "display_name": "Python 3 (ipykernel)",
   "language": "python",
   "name": "python3"
  },
  "language_info": {
   "codemirror_mode": {
    "name": "ipython",
    "version": 3
   },
   "file_extension": ".py",
   "mimetype": "text/x-python",
   "name": "python",
   "nbconvert_exporter": "python",
   "pygments_lexer": "ipython3",
   "version": "3.9.16"
  }
 },
 "nbformat": 4,
 "nbformat_minor": 5
}
