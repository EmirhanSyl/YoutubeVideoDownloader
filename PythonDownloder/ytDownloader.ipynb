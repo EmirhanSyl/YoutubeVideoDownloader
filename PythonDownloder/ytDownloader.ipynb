{
 "cells": [
  {
   "cell_type": "markdown",
   "id": "13a09d83",
   "metadata": {},
   "source": [
    "# Adding Command-Line Arguments"
   ]
  },
  {
   "cell_type": "code",
   "execution_count": 37,
   "id": "51cd21ad",
   "metadata": {},
   "outputs": [],
   "source": [
    "import sys\n",
    "import argparse\n",
    "import json"
   ]
  },
  {
   "cell_type": "markdown",
   "id": "0cdc9985",
   "metadata": {},
   "source": [
    "### Warning!\n",
    "\n",
    "Using 'args = parser.parse_args()' will throw an exception:\n",
    "\n",
    "\"usage: ipykernel_launcher.py [-h] [--location LOCATION] [--download]\n",
    "                             [--itag ITAG]\n",
    "ipykernel_launcher.py: error: unrecognized arguments: -f\"\n",
    "\n",
    "Because when running the script as an IPython kernel, additional arguments are passed automatically, such as -f to specify the kernel file. These arguments are not recognized by your script, resulting in the error.\n",
    "\n",
    "Changing this line with 'args, _ = parser.parse_known_args()' will ignore to unknown args."
   ]
  },
  {
   "cell_type": "code",
   "execution_count": 39,
   "id": "f73e9b64",
   "metadata": {},
   "outputs": [],
   "source": [
    "parser = argparse.ArgumentParser()\n",
    "\n",
    "parser.add_argument('--videourl', help='Youtube Video url to be downloaded')\n",
    "parser.add_argument('--location', help='Location to write the Youtube video file')\n",
    "parser.add_argument('--download', action='store_true', help='Enable Video&Audio Download')\n",
    "parser.add_argument('--itag', type=int, default=-1, help='Stream ID to spesify the quality or type of video. If empty, the highest resolution video will be downloaded')\n",
    "\n",
    "args, _ = parser.parse_known_args()\n",
    "\n",
    "videourl = args.videourl\n",
    "location = args.location\n",
    "download = args.download\n",
    "itag = args.itag"
   ]
  },
  {
   "cell_type": "markdown",
   "id": "21c32f1d",
   "metadata": {},
   "source": [
    "# Pytube Configs And Video Downloading"
   ]
  },
  {
   "cell_type": "code",
   "execution_count": 1,
   "id": "85af8585",
   "metadata": {},
   "outputs": [],
   "source": [
    "from pytube import YouTube\n",
    "import pytube\n",
    "import warnings\n",
    "\n",
    "pytube.innertube._default_clients['ANDROID']=pytube.innertube._default_clients['WEB']"
   ]
  },
  {
   "cell_type": "code",
   "execution_count": 2,
   "id": "1e06de31",
   "metadata": {},
   "outputs": [],
   "source": [
    "yt = None\n",
    "try:\n",
    "    yt = YouTube(videourl)\n",
    "except YouTube.RegexMatchError:\n",
    "    warnings.warn(\"Invalid YouTube video link!\")\n",
    "    raise RuntimeError(\"Invalid YouTube video link!\") from None\n",
    "    \n",
    "#link = \"https://www.youtube.com/watch?v=NFtQOxjWfaA\"\n",
    "#yt = YouTube(link)"
   ]
  },
  {
   "cell_type": "code",
   "execution_count": 3,
   "id": "1cb7416d",
   "metadata": {},
   "outputs": [
    {
     "name": "stdout",
     "output_type": "stream",
     "text": [
      "Title:  Anatomy of a Headshot\n",
      "Number of views:  23867816\n",
      "Length of video:  415 seconds\n",
      "Description:  None\n",
      "Ratings:  None\n"
     ]
    }
   ],
   "source": [
    "print(\"Title: \",yt.title)\n",
    "print(\"Number of views: \",yt.views)\n",
    "print(\"Length of video: \",yt.length,\"seconds\")\n",
    "print(\"Description: \",yt.description)\n",
    "print(\"Ratings: \",yt.rating)"
   ]
  },
  {
   "cell_type": "code",
   "execution_count": 6,
   "id": "76288e57",
   "metadata": {},
   "outputs": [
    {
     "name": "stdout",
     "output_type": "stream",
     "text": [
      "<Stream: itag=\"139\" mime_type=\"audio/mp4\" abr=\"48kbps\" acodec=\"mp4a.40.5\" progressive=\"False\" type=\"audio\">\n",
      "<Stream: itag=\"140\" mime_type=\"audio/mp4\" abr=\"128kbps\" acodec=\"mp4a.40.2\" progressive=\"False\" type=\"audio\">\n",
      "<Stream: itag=\"249\" mime_type=\"audio/webm\" abr=\"50kbps\" acodec=\"opus\" progressive=\"False\" type=\"audio\">\n",
      "<Stream: itag=\"250\" mime_type=\"audio/webm\" abr=\"70kbps\" acodec=\"opus\" progressive=\"False\" type=\"audio\">\n",
      "<Stream: itag=\"251\" mime_type=\"audio/webm\" abr=\"160kbps\" acodec=\"opus\" progressive=\"False\" type=\"audio\">\n"
     ]
    }
   ],
   "source": [
    "for stream in yt.streams.filter(only_audio=True):\n",
    "    print(stream)"
   ]
  },
  {
   "cell_type": "code",
   "execution_count": 7,
   "id": "4c5e5d5d",
   "metadata": {},
   "outputs": [
    {
     "name": "stdout",
     "output_type": "stream",
     "text": [
      "<Stream: itag=\"137\" mime_type=\"video/mp4\" res=\"1080p\" fps=\"30fps\" vcodec=\"avc1.640028\" progressive=\"False\" type=\"video\">\n",
      "<Stream: itag=\"248\" mime_type=\"video/webm\" res=\"1080p\" fps=\"30fps\" vcodec=\"vp9\" progressive=\"False\" type=\"video\">\n",
      "<Stream: itag=\"136\" mime_type=\"video/mp4\" res=\"720p\" fps=\"30fps\" vcodec=\"avc1.4d401f\" progressive=\"False\" type=\"video\">\n",
      "<Stream: itag=\"247\" mime_type=\"video/webm\" res=\"720p\" fps=\"30fps\" vcodec=\"vp9\" progressive=\"False\" type=\"video\">\n",
      "<Stream: itag=\"135\" mime_type=\"video/mp4\" res=\"480p\" fps=\"30fps\" vcodec=\"avc1.4d401f\" progressive=\"False\" type=\"video\">\n",
      "<Stream: itag=\"244\" mime_type=\"video/webm\" res=\"480p\" fps=\"30fps\" vcodec=\"vp9\" progressive=\"False\" type=\"video\">\n",
      "<Stream: itag=\"134\" mime_type=\"video/mp4\" res=\"360p\" fps=\"30fps\" vcodec=\"avc1.4d401e\" progressive=\"False\" type=\"video\">\n",
      "<Stream: itag=\"243\" mime_type=\"video/webm\" res=\"360p\" fps=\"30fps\" vcodec=\"vp9\" progressive=\"False\" type=\"video\">\n",
      "<Stream: itag=\"133\" mime_type=\"video/mp4\" res=\"240p\" fps=\"30fps\" vcodec=\"avc1.4d4015\" progressive=\"False\" type=\"video\">\n",
      "<Stream: itag=\"242\" mime_type=\"video/webm\" res=\"240p\" fps=\"30fps\" vcodec=\"vp9\" progressive=\"False\" type=\"video\">\n",
      "<Stream: itag=\"160\" mime_type=\"video/mp4\" res=\"144p\" fps=\"30fps\" vcodec=\"avc1.4d400c\" progressive=\"False\" type=\"video\">\n",
      "<Stream: itag=\"278\" mime_type=\"video/webm\" res=\"144p\" fps=\"30fps\" vcodec=\"vp9\" progressive=\"False\" type=\"video\">\n"
     ]
    }
   ],
   "source": [
    "for stream in yt.streams.filter(only_video=True):\n",
    "    print(stream)"
   ]
  },
  {
   "cell_type": "code",
   "execution_count": 8,
   "id": "ee75bcf0",
   "metadata": {},
   "outputs": [
    {
     "name": "stdout",
     "output_type": "stream",
     "text": [
      "<Stream: itag=\"17\" mime_type=\"video/3gpp\" res=\"144p\" fps=\"7fps\" vcodec=\"mp4v.20.3\" acodec=\"mp4a.40.2\" progressive=\"True\" type=\"video\">\n",
      "<Stream: itag=\"18\" mime_type=\"video/mp4\" res=\"360p\" fps=\"30fps\" vcodec=\"avc1.42001E\" acodec=\"mp4a.40.2\" progressive=\"True\" type=\"video\">\n",
      "<Stream: itag=\"22\" mime_type=\"video/mp4\" res=\"720p\" fps=\"30fps\" vcodec=\"avc1.64001F\" acodec=\"mp4a.40.2\" progressive=\"True\" type=\"video\">\n"
     ]
    }
   ],
   "source": [
    "for stream in yt.streams.filter(progressive=True):\n",
    "    print(stream)"
   ]
  },
  {
   "cell_type": "code",
   "execution_count": 9,
   "id": "f5e6e70f",
   "metadata": {},
   "outputs": [],
   "source": [
    "ys = None\n",
    "if (itag == -1):\n",
    "    ys = yt.streams.get_highest_resolution\n",
    "else:\n",
    "    ys = yt.streams.get_by_itag('250')"
   ]
  },
  {
   "cell_type": "code",
   "execution_count": 11,
   "id": "0e1cf0a5",
   "metadata": {},
   "outputs": [],
   "source": [
    "save_location = \"C:/users/emirs/Desktop/\"\n",
    "if location is not None:\n",
    "    save_location = location"
   ]
  },
  {
   "cell_type": "code",
   "execution_count": 12,
   "id": "5aa3a4df",
   "metadata": {},
   "outputs": [
    {
     "data": {
      "text/plain": [
       "'C:/users/emirs/Desktop/Anatomy of a Headshot.webm'"
      ]
     },
     "execution_count": 12,
     "metadata": {},
     "output_type": "execute_result"
    }
   ],
   "source": [
    "if download:\n",
    "    ys.download(location)"
   ]
  },
  {
   "cell_type": "markdown",
   "id": "249a871d",
   "metadata": {},
   "source": [
    "# Convert Video Streaming Options To A JSON File"
   ]
  },
  {
   "cell_type": "code",
   "execution_count": 25,
   "id": "12346ee4",
   "metadata": {},
   "outputs": [],
   "source": [
    "import json"
   ]
  },
  {
   "cell_type": "code",
   "execution_count": 34,
   "id": "126f2581",
   "metadata": {},
   "outputs": [],
   "source": [
    "only_audio_Streamings = list(yt.streams.filter(only_audio=True))\n",
    "only_video_Streamings = list(yt.streams.filter(only_video=True))\n",
    "progressive_Streamings = list(yt.streams.filter(progressive=True))\n",
    "\n",
    "# Extract necessary attributes for each stream\n",
    "only_audio_data = []\n",
    "for stream in only_audio_Streamings:\n",
    "    only_audio_data.append({\n",
    "        'url': stream.url,\n",
    "        'itag': stream.itag,\n",
    "        'mime_type': stream.mime_type,\n",
    "        # Add other required attributes here\n",
    "    })\n",
    "\n",
    "only_video_data = []\n",
    "for stream in only_video_Streamings:\n",
    "    only_video_data.append({\n",
    "        'url': stream.url,\n",
    "        'itag': stream.itag,\n",
    "        'mime_type': stream.mime_type,\n",
    "        # Add other required attributes here\n",
    "    })\n",
    "\n",
    "progressive_data = []\n",
    "for stream in progressive_Streamings:\n",
    "    progressive_data.append({\n",
    "        'url': stream.url,\n",
    "        'itag': stream.itag,\n",
    "        'mime_type': stream.mime_type,\n",
    "        # Add other required attributes here\n",
    "    })\n",
    "\n",
    "# Create a dictionary with the extracted data\n",
    "data = {\n",
    "    'only_audio_Streamings': only_audio_data,\n",
    "    'only_video_Streamings': only_video_data,\n",
    "    'progressive_Streamings': progressive_data\n",
    "}"
   ]
  },
  {
   "cell_type": "code",
   "execution_count": 35,
   "id": "fe697d2b",
   "metadata": {},
   "outputs": [],
   "source": [
    "json_data = json.dumps(data, indent=4)"
   ]
  },
  {
   "cell_type": "code",
   "execution_count": 36,
   "id": "138af990",
   "metadata": {},
   "outputs": [],
   "source": [
    "with open('data.json', 'w') as file:\n",
    "    file.write(json_data)"
   ]
  },
  {
   "cell_type": "code",
   "execution_count": null,
   "id": "ba6bd348",
   "metadata": {},
   "outputs": [],
   "source": []
  }
 ],
 "metadata": {
  "kernelspec": {
   "display_name": "Python 3 (ipykernel)",
   "language": "python",
   "name": "python3"
  },
  "language_info": {
   "codemirror_mode": {
    "name": "ipython",
    "version": 3
   },
   "file_extension": ".py",
   "mimetype": "text/x-python",
   "name": "python",
   "nbconvert_exporter": "python",
   "pygments_lexer": "ipython3",
   "version": "3.9.16"
  }
 },
 "nbformat": 4,
 "nbformat_minor": 5
}
